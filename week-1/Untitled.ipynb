{
 "cells": [
  {
   "cell_type": "markdown",
   "id": "7ec7ac9e",
   "metadata": {},
   "source": [
    "print(\"Hello Jay\")"
   ]
  },
  {
   "cell_type": "code",
   "execution_count": null,
   "id": "7e8e3d0e",
   "metadata": {},
   "outputs": [],
   "source": [
    "person = input(\"What's your name?\")\n",
    "print('Hello,', person)"
   ]
  },
  {
   "cell_type": "markdown",
   "id": "c5e5c8f6",
   "metadata": {},
   "source": [
    "age = 12\n",
    "print(age)"
   ]
  }
 ],
 "metadata": {
  "kernelspec": {
   "display_name": "Python 3 (ipykernel)",
   "language": "python",
   "name": "python3"
  },
  "language_info": {
   "codemirror_mode": {
    "name": "ipython",
    "version": 3
   },
   "file_extension": ".py",
   "mimetype": "text/x-python",
   "name": "python",
   "nbconvert_exporter": "python",
   "pygments_lexer": "ipython3",
   "version": "3.10.9"
  }
 },
 "nbformat": 4,
 "nbformat_minor": 5
}
